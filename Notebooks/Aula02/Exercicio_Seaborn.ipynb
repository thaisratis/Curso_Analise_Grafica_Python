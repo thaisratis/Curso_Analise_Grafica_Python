{
 "cells": [
  {
   "cell_type": "markdown",
   "id": "ffcb22fd",
   "metadata": {},
   "source": [
    "# Exercício"
   ]
  },
  {
   "cell_type": "markdown",
   "id": "6d0f5db4",
   "metadata": {},
   "source": [
    "1. **Gráfico de Linha:**\n",
    "   Crie um gráfico de linha mostrando o crescimento populacional ao longo dos anos (populacao_brasileira.csv) ou variação de idades ao longo dos registros (german_credit_data.csv).\n",
    "\n",
    "2. **Gráfico de Barras:**\n",
    "   Represente a distribuição de frequência de variáveis qualitativas (categorias) (por exemplo, pessoas por sexo). \n",
    "\n",
    "3. **Histograma:**\n",
    "   Crie um histograma para analisar a distribuição de uma variável (por exemplo, idade) em um conjunto de dados.\n",
    "\n",
    "4. **Gráfico de Dispersão:**\n",
    "   Visualize a relação entre 2 variáveis (por exemplo idade vs. valor do crédito) usando um gráfico de dispersão.\n",
    "\n",
    "5. **Gráfico de Boxplot:**\n",
    "   Crie um boxplot para analisar a distribuição de variáveis (por exemplo, distribuição de idade por sexo).\n",
    "\n",
    "6. **Mapa de Calor (Heatmap):**\n",
    "   Crie um mapa de calor para visualizar a correlação entre diferentes variáveis em um conjunto de dados.\n",
    "\n",
    "5. Crie um gráfico de dispersão para mostrar a relação entre idade e quantidade de crédito (campo \"Age\" vs. \"Credit amount\"), onde as cores representam o sexo e o tamanho dos pontos varia conforme o propósito.\n",
    "6. Crie um gráfico de linha mostrando a variação da quantidade de crédito em função da duração do crédito, separando por sexo.\n",
    "7. Crie dois histogramas comparando a distribuição de idades entre masculino e feminino.\n",
    "8. Como o valor do crédito (\"Credit amount\") se distribui com base no tipo de trabalho (\"Job\") e no sexo (\"Sex\")? Use um gráfico de barras para representar a média do valor de crédito solicitado para cada combinação de \"Job\" e \"Sex\"."
   ]
  }
 ],
 "metadata": {
  "kernelspec": {
   "display_name": "Python 3 (ipykernel)",
   "language": "python",
   "name": "python3"
  },
  "language_info": {
   "codemirror_mode": {
    "name": "ipython",
    "version": 3
   },
   "file_extension": ".py",
   "mimetype": "text/x-python",
   "name": "python",
   "nbconvert_exporter": "python",
   "pygments_lexer": "ipython3",
   "version": "3.9.7"
  }
 },
 "nbformat": 4,
 "nbformat_minor": 5
}
